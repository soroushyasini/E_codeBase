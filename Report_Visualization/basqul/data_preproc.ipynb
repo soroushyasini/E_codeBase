{
 "cells": [
  {
   "cell_type": "code",
   "execution_count": 1,
   "metadata": {},
   "outputs": [
    {
     "name": "stdout",
     "output_type": "stream",
     "text": [
      "Requirement already satisfied: pandas in c:\\users\\s.yasini\\appdata\\local\\miniconda3\\envs\\data_sci\\lib\\site-packages (2.2.3)\n",
      "Requirement already satisfied: jdatetime in c:\\users\\s.yasini\\appdata\\local\\miniconda3\\envs\\data_sci\\lib\\site-packages (5.1.0)\n",
      "Requirement already satisfied: openpyxl in c:\\users\\s.yasini\\appdata\\local\\miniconda3\\envs\\data_sci\\lib\\site-packages (3.1.5)\n",
      "Requirement already satisfied: numpy>=1.23.2 in c:\\users\\s.yasini\\appdata\\local\\miniconda3\\envs\\data_sci\\lib\\site-packages (from pandas) (2.2.2)\n",
      "Requirement already satisfied: python-dateutil>=2.8.2 in c:\\users\\s.yasini\\appdata\\local\\miniconda3\\envs\\data_sci\\lib\\site-packages (from pandas) (2.9.0.post0)\n",
      "Requirement already satisfied: pytz>=2020.1 in c:\\users\\s.yasini\\appdata\\local\\miniconda3\\envs\\data_sci\\lib\\site-packages (from pandas) (2024.2)\n",
      "Requirement already satisfied: tzdata>=2022.7 in c:\\users\\s.yasini\\appdata\\local\\miniconda3\\envs\\data_sci\\lib\\site-packages (from pandas) (2025.1)\n",
      "Requirement already satisfied: jalali-core>=1.0 in c:\\users\\s.yasini\\appdata\\local\\miniconda3\\envs\\data_sci\\lib\\site-packages (from jdatetime) (1.0.0)\n",
      "Requirement already satisfied: et-xmlfile in c:\\users\\s.yasini\\appdata\\local\\miniconda3\\envs\\data_sci\\lib\\site-packages (from openpyxl) (2.0.0)\n",
      "Requirement already satisfied: six>=1.5 in c:\\users\\s.yasini\\appdata\\local\\miniconda3\\envs\\data_sci\\lib\\site-packages (from python-dateutil>=2.8.2->pandas) (1.16.0)\n"
     ]
    }
   ],
   "source": [
    "!pip install pandas jdatetime openpyxl"
   ]
  },
  {
   "cell_type": "code",
   "execution_count": 2,
   "metadata": {},
   "outputs": [],
   "source": [
    "import pandas as pd\n",
    "from jdatetime import datetime as jdatetime\n",
    "\n",
    "# Read the Excel file\n",
    "file_path = \"basqul.xlsx\"\n",
    "sheet_name = \"Sheet\"  # Replace with the actual sheet name\n",
    "df = pd.read_excel(file_path, sheet_name=sheet_name)\n"
   ]
  },
  {
   "cell_type": "code",
   "execution_count": 3,
   "metadata": {},
   "outputs": [
    {
     "name": "stdout",
     "output_type": "stream",
     "text": [
      "   سریال  شماره قبض       تاریخ     شماره پلاک             نام کالا  \\\n",
      "0   3973       3973  2025-01-19  52-186- ع -38  بارخروجی سیمانی10-0   \n",
      "1   3972       3972  2025-01-19  52-965- ع -44  بارخروجی سیمانی10-0   \n",
      "2   3968       3968  2025-01-18  52-498- ع -42  بارخروجی سیمانی10-0   \n",
      "3   3932       3932  2025-01-15  36-726- ع -45  بارخروجی سیمانی10-0   \n",
      "4   3931       3931  2025-01-15  52-818- ع -33  بارخروجی سیمانی10-0   \n",
      "\n",
      "          فروشنده      خریدار  وزن خالص  وزن اول تاریخ توزین اول  ...  \\\n",
      "0  کاوش گستر امین  اقای قاسمی     26160    15475      1403/10/30  ...   \n",
      "1  کاوش گستر امین  اقای قاسمی     27565    14545      1403/10/30  ...   \n",
      "2  کاوش گستر امین  اقای قاسمی     26365    15435      1403/10/29  ...   \n",
      "3  کاوش گستر امین  اقای قاسمی     24865    17175      1403/10/26  ...   \n",
      "4  کاوش گستر امین  اقای قاسمی     24725    17340      1403/10/26  ...   \n",
      "\n",
      "  تعرفه توزین دوم جمع تعرفه توزین  کد وارده/صادره وارده/صادره توضیحات  \\\n",
      "0               0               0           False       صادره     NaN   \n",
      "1               0               0           False       صادره     NaN   \n",
      "2               0               0           False       صادره     NaN   \n",
      "3               0               0           False       صادره     NaN   \n",
      "4               0               0           False       صادره     NaN   \n",
      "\n",
      "  کد وضعیت قبض  وضعیت قبض کد کاربر نام کاربر  ارزیابی کالا  \n",
      "0            1   کامل شده        3     سعیدی           NaN  \n",
      "1            1   کامل شده        3     سعیدی           NaN  \n",
      "2            1   کامل شده        3     سعیدی           NaN  \n",
      "3            1   کامل شده        3     سعیدی           NaN  \n",
      "4            1   کامل شده        3     سعیدی           NaN  \n",
      "\n",
      "[5 rows x 54 columns]\n"
     ]
    }
   ],
   "source": [
    "from jdatetime import date as jdate\n",
    "\n",
    "# Function to convert Shamsi to Gregorian\n",
    "def shamsi_to_gregorian(shamsi_date):\n",
    "    year, month, day = map(int, shamsi_date.split('/'))\n",
    "    gregorian_date = jdate(year, month, day).togregorian()\n",
    "    return gregorian_date.strftime(\"%Y-%m-%d\")\n",
    "\n",
    "# Apply the conversion to the تاریخ column\n",
    "df['تاریخ'] = df['تاریخ'].apply(shamsi_to_gregorian)\n",
    "\n",
    "# Display the updated DataFrame\n",
    "print(df.head())"
   ]
  },
  {
   "cell_type": "code",
   "execution_count": 4,
   "metadata": {},
   "outputs": [
    {
     "name": "stdout",
     "output_type": "stream",
     "text": [
      "   سریال  شماره قبض       تاریخ     شماره پلاک             نام کالا  \\\n",
      "0   3973       3973  2025-01-19  52-186- ع -38  بارخروجی سیمانی10-0   \n",
      "1   3972       3972  2025-01-19  52-965- ع -44  بارخروجی سیمانی10-0   \n",
      "2   3968       3968  2025-01-18  52-498- ع -42  بارخروجی سیمانی10-0   \n",
      "3   3932       3932  2025-01-15  36-726- ع -45  بارخروجی سیمانی10-0   \n",
      "4   3931       3931  2025-01-15  52-818- ع -33  بارخروجی سیمانی10-0   \n",
      "\n",
      "          فروشنده      خریدار  وزن خالص  وزن اول روش ثبت توزین اول  ...  \\\n",
      "0  کاوش گستر امین  اقای قاسمی     26160    15475          ثبت نشده  ...   \n",
      "1  کاوش گستر امین  اقای قاسمی     27565    14545          ثبت نشده  ...   \n",
      "2  کاوش گستر امین  اقای قاسمی     26365    15435          ثبت نشده  ...   \n",
      "3  کاوش گستر امین  اقای قاسمی     24865    17175          ثبت نشده  ...   \n",
      "4  کاوش گستر امین  اقای قاسمی     24725    17340          ثبت نشده  ...   \n",
      "\n",
      "   کد وارده/صادره وارده/صادره  توضیحات کد وضعیت قبض وضعیت قبض  کد کاربر  \\\n",
      "0           False       صادره      NaN            1  کامل شده         3   \n",
      "1           False       صادره      NaN            1  کامل شده         3   \n",
      "2           False       صادره      NaN            1  کامل شده         3   \n",
      "3           False       صادره      NaN            1  کامل شده         3   \n",
      "4           False       صادره      NaN            1  کامل شده         3   \n",
      "\n",
      "   نام کاربر  ارزیابی کالا   tarekh_tozin_aval  tarekh_tozin_dovom  \n",
      "0      سعیدی           NaN 2025-01-19 16:40:03 2025-01-19 17:00:50  \n",
      "1      سعیدی           NaN 2025-01-19 16:37:57 2025-01-19 16:52:26  \n",
      "2      سعیدی           NaN 2025-01-18 22:02:59 2025-01-18 22:15:13  \n",
      "3      سعیدی           NaN 2025-01-15 08:13:02 2025-01-15 08:39:47  \n",
      "4      سعیدی           NaN 2025-01-15 08:10:52 2025-01-15 08:37:24  \n",
      "\n",
      "[5 rows x 52 columns]\n"
     ]
    }
   ],
   "source": [
    "from jdatetime import datetime as jdatetime\n",
    "\n",
    "# Function to convert Shamsi datetime to Gregorian datetime\n",
    "def shamsi_to_gregorian_datetime(shamsi_date, shamsi_time):\n",
    "    year, month, day = map(int, shamsi_date.split('/'))\n",
    "    hour, minute, second = map(int, shamsi_time.split(':'))\n",
    "    jdt = jdatetime(year, month, day, hour, minute, second)\n",
    "    return jdt.togregorian()\n",
    "\n",
    "# Combine تاریخ توزین اول and ساعت توزین اول into a new column\n",
    "df['tarekh_tozin_aval'] = df.apply(\n",
    "    lambda row: shamsi_to_gregorian_datetime(row['تاریخ توزین اول'], row['ساعت توزین اول']), axis=1\n",
    ")\n",
    "\n",
    "# Combine تاریخ توزین دوم and ساعت توزین دوم into a new column\n",
    "df['tarekh_tozin_dovom'] = df.apply(\n",
    "    lambda row: shamsi_to_gregorian_datetime(row['تاریخ توزین دوم'], row['ساعت توزین دوم']), axis=1\n",
    ")\n",
    "\n",
    "# Drop the old columns\n",
    "df.drop(columns=['تاریخ توزین اول', 'ساعت توزین اول', 'تاریخ توزین دوم', 'ساعت توزین دوم'], inplace=True)\n",
    "\n",
    "# Display the updated DataFrame\n",
    "print(df.head())"
   ]
  },
  {
   "cell_type": "code",
   "execution_count": 5,
   "metadata": {},
   "outputs": [],
   "source": [
    "# Save to a new Excel file\n",
    "df.to_excel(\"processed_basqul.xlsx\", index=False)\n",
    "\n"
   ]
  },
  {
   "cell_type": "code",
   "execution_count": 6,
   "metadata": {},
   "outputs": [],
   "source": [
    "column_mapping = {\n",
    "    \"سریال\": \"serial\",\n",
    "    \"شماره قبض\": \"shomareh_ghabz\",\n",
    "    \"تاریخ\": \"tarikh\",\n",
    "    \"شماره پلاک\": \"shomareh_pelak\",\n",
    "    \"نام کالا\": \"name_kala\",\n",
    "    \"فروشنده\": \"forooshande\",\n",
    "    \"خریدار\": \"kharidar\",\n",
    "    \"وزن خالص\": \"vazn_khales\",\n",
    "    \"وزن اول\": \"vazn_aval\",\n",
    "    \"روش ثبت توزین اول\": \"ravesh_sabt_tozin_aval\",\n",
    "    \"وزن دوم\": \"vazn_dovom\",\n",
    "    \"روش ثبت توزین دوم\": \"ravesh_sabt_tozin_dovom\",\n",
    "    \"کد کالا\": \"kod_kala\",\n",
    "    \"کد انحصاری\": \"kod_enhesari\",\n",
    "    \"واحد کالا\": \"vahed_kala\",\n",
    "    \"توضیح کالا\": \"tozih_kala\",\n",
    "    \"کد فروشنده\": \"kod_forooshande\",\n",
    "    \"کد خریدار\": \"kod_kharidar\",\n",
    "    \"کد راننده\": \"kod_ranande\",\n",
    "    \"راننده\": \"ranande\",\n",
    "    \"کد خودرو\": \"kod_khodro\",\n",
    "    \"نام خودرو\": \"name_khodro\",\n",
    "    \"کد مبدا\": \"kod_mabda\",\n",
    "    \"مبدا\": \"mabda\",\n",
    "    \"کد مقصد\": \"kod_maghsad\",\n",
    "    \"مقصد\": \"maghsad\",\n",
    "    \"تاریخ قبض مبدا\": \"tarikh_ghabz_mabda\",\n",
    "    \"شماره قبض مبدا\": \"shomareh_ghabz_mabda\",\n",
    "    \"وزن مبدا\": \"vazn_mabda\",\n",
    "    \"قیمت کالا\": \"gheymat_kala\",\n",
    "    \"افت وزن\": \"oft_vazn\",\n",
    "    \"درصد افت وزن\": \"darsad_oft_vazn\",\n",
    "    \"وزن نهایی\": \"vazn_nahaee\",\n",
    "    \"قیمت خالص\": \"gheymat_khales\",\n",
    "    \"مالیات\": \"maliat\",\n",
    "    \"درصد مالیات\": \"darsad_maliat\",\n",
    "    \"تخفیف\": \"takhfif\",\n",
    "    \"درصد تخفیف\": \"darsad_takhfif\",\n",
    "    \"قیمت نهایی\": \"gheymat_nahaee\",\n",
    "    \"تعرفه توزین اول\": \"taarofeh_tozin_aval\",\n",
    "    \"تعرفه توزین دوم\": \"taarofeh_tozin_dovom\",\n",
    "    \"جمع تعرفه توزین\": \"jam_taarofeh_tozin\",\n",
    "    \"کد وارده/صادره\": \"kod_varede_sadere\",\n",
    "    \"وارده/صادره\": \"varede_sadere\",\n",
    "    \"توضیحات\": \"tozihat\",\n",
    "    \"کد وضعیت قبض\": \"kod_vaziyat_ghabz\",\n",
    "    \"وضعیت قبض\": \"vaziyat_ghabz\",\n",
    "    \"کد کاربر\": \"kod_karbar\",\n",
    "    \"نام کاربر\": \"name_karbar\",\n",
    "    \"ارزیابی کالا\": \"arzyabi_kala\"\n",
    "}"
   ]
  },
  {
   "cell_type": "code",
   "execution_count": 7,
   "metadata": {},
   "outputs": [
    {
     "name": "stdout",
     "output_type": "stream",
     "text": [
      "   serial  shomareh_ghabz      tarikh shomareh_pelak            name_kala  \\\n",
      "0    3973            3973  2025-01-19  52-186- ع -38  بارخروجی سیمانی10-0   \n",
      "1    3972            3972  2025-01-19  52-965- ع -44  بارخروجی سیمانی10-0   \n",
      "2    3968            3968  2025-01-18  52-498- ع -42  بارخروجی سیمانی10-0   \n",
      "3    3932            3932  2025-01-15  36-726- ع -45  بارخروجی سیمانی10-0   \n",
      "4    3931            3931  2025-01-15  52-818- ع -33  بارخروجی سیمانی10-0   \n",
      "\n",
      "      forooshande    kharidar  vazn_khales  vazn_aval ravesh_sabt_tozin_aval  \\\n",
      "0  کاوش گستر امین  اقای قاسمی        26160      15475               ثبت نشده   \n",
      "1  کاوش گستر امین  اقای قاسمی        27565      14545               ثبت نشده   \n",
      "2  کاوش گستر امین  اقای قاسمی        26365      15435               ثبت نشده   \n",
      "3  کاوش گستر امین  اقای قاسمی        24865      17175               ثبت نشده   \n",
      "4  کاوش گستر امین  اقای قاسمی        24725      17340               ثبت نشده   \n",
      "\n",
      "   ...  kod_varede_sadere varede_sadere  tozihat kod_vaziyat_ghabz  \\\n",
      "0  ...              False         صادره      NaN                 1   \n",
      "1  ...              False         صادره      NaN                 1   \n",
      "2  ...              False         صادره      NaN                 1   \n",
      "3  ...              False         صادره      NaN                 1   \n",
      "4  ...              False         صادره      NaN                 1   \n",
      "\n",
      "  vaziyat_ghabz  kod_karbar  name_karbar  arzyabi_kala   tarekh_tozin_aval  \\\n",
      "0      کامل شده           3        سعیدی           NaN 2025-01-19 16:40:03   \n",
      "1      کامل شده           3        سعیدی           NaN 2025-01-19 16:37:57   \n",
      "2      کامل شده           3        سعیدی           NaN 2025-01-18 22:02:59   \n",
      "3      کامل شده           3        سعیدی           NaN 2025-01-15 08:13:02   \n",
      "4      کامل شده           3        سعیدی           NaN 2025-01-15 08:10:52   \n",
      "\n",
      "   tarekh_tozin_dovom  \n",
      "0 2025-01-19 17:00:50  \n",
      "1 2025-01-19 16:52:26  \n",
      "2 2025-01-18 22:15:13  \n",
      "3 2025-01-15 08:39:47  \n",
      "4 2025-01-15 08:37:24  \n",
      "\n",
      "[5 rows x 52 columns]\n"
     ]
    }
   ],
   "source": [
    "# Rename the columns\n",
    "df.rename(columns=column_mapping, inplace=True)\n",
    "\n",
    "# Display the updated DataFrame with new column names\n",
    "print(df.head())"
   ]
  },
  {
   "cell_type": "code",
   "execution_count": 8,
   "metadata": {},
   "outputs": [],
   "source": [
    "df.to_excel(\"processed_gareguri_basqul.xlsx\", index=False)"
   ]
  },
  {
   "cell_type": "code",
   "execution_count": 11,
   "metadata": {},
   "outputs": [],
   "source": [
    "file_path = \"processed_gareguri_basqul.xlsx\"\n",
    "sheet_name = \"Sheet1\"  # Replace with the actual sheet name\n",
    "df = pd.read_excel(file_path, sheet_name=sheet_name)"
   ]
  },
  {
   "cell_type": "code",
   "execution_count": 12,
   "metadata": {},
   "outputs": [
    {
     "name": "stdout",
     "output_type": "stream",
     "text": [
      "   shomareh_ghabz      tarikh shomareh_pelak            name_kala  \\\n",
      "0            3973  2025-01-19  52-186- ع -38  بارخروجی سیمانی10-0   \n",
      "1            3972  2025-01-19  52-965- ع -44  بارخروجی سیمانی10-0   \n",
      "2            3968  2025-01-18  52-498- ع -42  بارخروجی سیمانی10-0   \n",
      "3            3932  2025-01-15  36-726- ع -45  بارخروجی سیمانی10-0   \n",
      "4            3931  2025-01-15  52-818- ع -33  بارخروجی سیمانی10-0   \n",
      "\n",
      "      forooshande    kharidar  vazn_khales  vazn_aval ravesh_sabt_tozin_aval  \\\n",
      "0  کاوش گستر امین  اقای قاسمی        26160      15475               ثبت نشده   \n",
      "1  کاوش گستر امین  اقای قاسمی        27565      14545               ثبت نشده   \n",
      "2  کاوش گستر امین  اقای قاسمی        26365      15435               ثبت نشده   \n",
      "3  کاوش گستر امین  اقای قاسمی        24865      17175               ثبت نشده   \n",
      "4  کاوش گستر امین  اقای قاسمی        24725      17340               ثبت نشده   \n",
      "\n",
      "   vazn_dovom  ... kod_mabda        mabda kod_maghsad               maghsad  \\\n",
      "0       41635  ...        11  سایت فراوری          17  کارخانه سیمان باقران   \n",
      "1       42110  ...        11  سایت فراوری          17  کارخانه سیمان باقران   \n",
      "2       41800  ...        11  سایت فراوری          17  کارخانه سیمان باقران   \n",
      "3       42040  ...        11  سایت فراوری          17  کارخانه سیمان باقران   \n",
      "4       42065  ...        11  سایت فراوری          17  کارخانه سیمان باقران   \n",
      "\n",
      "   vazn_nahaee  vaziyat_ghabz kod_karbar  name_karbar   tarekh_tozin_aval  \\\n",
      "0        26160       کامل شده          3        سعیدی 2025-01-19 16:40:03   \n",
      "1        27565       کامل شده          3        سعیدی 2025-01-19 16:37:57   \n",
      "2        26365       کامل شده          3        سعیدی 2025-01-18 22:02:59   \n",
      "3        24865       کامل شده          3        سعیدی 2025-01-15 08:13:02   \n",
      "4        24725       کامل شده          3        سعیدی 2025-01-15 08:10:52   \n",
      "\n",
      "   tarekh_tozin_dovom  \n",
      "0 2025-01-19 17:00:50  \n",
      "1 2025-01-19 16:52:26  \n",
      "2 2025-01-18 22:15:13  \n",
      "3 2025-01-15 08:39:47  \n",
      "4 2025-01-15 08:37:24  \n",
      "\n",
      "[5 rows x 29 columns]\n"
     ]
    }
   ],
   "source": [
    "# List of columns to drop\n",
    "columns_to_drop = [\n",
    "    \"serial\", \"vahed_kala\", \"tozih_kala\", \"tarikh_ghabz_mabda\", \"shomareh_ghabz_mabda\", \n",
    "    \"vazn_mabda\", \"gheymat_kala\", \"oft_vazn\", \"darsad_oft_vazn\", \"gheymat_khales\", \n",
    "    \"maliat\", \"darsad_maliat\", \"takhfif\", \"darsad_takhfif\", \"gheymat_nahaee\", \n",
    "    \"taarofeh_tozin_aval\", \"taarofeh_tozin_dovom\", \"jam_taarofeh_tozin\", \n",
    "    \"kod_varede_sadere\", \"varede_sadere\", \"tozihat\", \"kod_vaziyat_ghabz\", \"arzyabi_kala\"\n",
    "]\n",
    "\n",
    "# Drop the columns\n",
    "df.drop(columns=columns_to_drop, inplace=True)\n",
    "\n",
    "# Display the updated DataFrame\n",
    "print(df.head())"
   ]
  },
  {
   "cell_type": "code",
   "execution_count": 13,
   "metadata": {},
   "outputs": [],
   "source": [
    "df.to_excel(\"processed_gareguri_basqul_rmBadCols.xlsx\", index=False)"
   ]
  },
  {
   "cell_type": "code",
   "execution_count": 14,
   "metadata": {},
   "outputs": [],
   "source": [
    "import pandas as pd\n",
    "\n",
    "# Read the Excel file\n",
    "file_path = \"processed_gareguri_basqul_rmBadCols.xlsx\"\n",
    "sheet_name = \"Sheet1\"  # Replace with the actual sheet name\n",
    "df = pd.read_excel(file_path, sheet_name=sheet_name)\n",
    "\n",
    "# Replace invalid dates with NULL (or a valid placeholder)\n",
    "df['tarikh'] = pd.to_datetime(df['tarikh'], errors='coerce')  # Coerce invalid dates to NaT (Not a Time)\n",
    "df['tarikh'] = df['tarikh'].dt.strftime('%Y-%m-%d')  # Convert valid dates to YYYY-MM-DD format\n",
    "\n",
    "# Save the cleaned data to a new file\n",
    "df.to_excel(\"cleaned_basqul.xlsx\", index=False)"
   ]
  },
  {
   "cell_type": "code",
   "execution_count": 15,
   "metadata": {},
   "outputs": [],
   "source": [
    "\n",
    "# Convert the tarikh column to datetime (coerce invalid dates to NaT)\n",
    "df['tarikh'] = pd.to_datetime(df['tarikh'], errors='coerce')\n",
    "\n",
    "# Check for invalid dates\n",
    "invalid_dates = df[df['tarikh'].isna()]\n",
    "if not invalid_dates.empty:\n",
    "    print(\"Invalid dates found:\")\n",
    "    print(invalid_dates)\n",
    "\n"
   ]
  }
 ],
 "metadata": {
  "kernelspec": {
   "display_name": "data_sci",
   "language": "python",
   "name": "python3"
  },
  "language_info": {
   "codemirror_mode": {
    "name": "ipython",
    "version": 3
   },
   "file_extension": ".py",
   "mimetype": "text/x-python",
   "name": "python",
   "nbconvert_exporter": "python",
   "pygments_lexer": "ipython3",
   "version": "3.11.11"
  }
 },
 "nbformat": 4,
 "nbformat_minor": 2
}
