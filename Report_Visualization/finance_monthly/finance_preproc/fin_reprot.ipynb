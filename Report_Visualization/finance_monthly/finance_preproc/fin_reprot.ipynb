{
 "cells": [
  {
   "cell_type": "code",
   "execution_count": null,
   "metadata": {},
   "outputs": [],
   "source": [
    "import glob\n",
    "import os\n",
    "\n",
    "# Suppose all your Excel files are in the folder \"excel_data\"\n",
    "# and have the pattern 6-digit (yymmdd) or (yyyymm) etc.\n",
    "excel_files = glob.glob(os.path.join(\"excel_data\", \"[0-9][0-9][0-9][0-9][0-9][0-9]*.xlsx\"))\n",
    "\n",
    "# excel_files will now be a list of file paths that match the pattern, e.g.\n",
    "# ['excel_data/140302.xlsx', 'excel_data/140303.xlsx', ...]\n"
   ]
  }
 ],
 "metadata": {
  "kernelspec": {
   "display_name": "data_sci",
   "language": "python",
   "name": "python3"
  },
  "language_info": {
   "name": "python",
   "version": "3.11.11"
  }
 },
 "nbformat": 4,
 "nbformat_minor": 2
}
