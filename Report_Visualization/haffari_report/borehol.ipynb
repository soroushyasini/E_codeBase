{
 "cells": [
  {
   "cell_type": "code",
   "execution_count": 1,
   "id": "c876b0ad-8bb2-48d2-8b02-4c07a7cb761d",
   "metadata": {},
   "outputs": [
    {
     "name": "stdout",
     "output_type": "stream",
     "text": [
      "Requirement already satisfied: pandas in c:\\users\\s.yasini\\appdata\\local\\miniconda3\\envs\\data_sci\\lib\\site-packages (2.2.3)\n",
      "Requirement already satisfied: openpyxl in c:\\users\\s.yasini\\appdata\\local\\miniconda3\\envs\\data_sci\\lib\\site-packages (3.1.5)\n",
      "Requirement already satisfied: numpy>=1.23.2 in c:\\users\\s.yasini\\appdata\\local\\miniconda3\\envs\\data_sci\\lib\\site-packages (from pandas) (2.2.2)\n",
      "Requirement already satisfied: python-dateutil>=2.8.2 in c:\\users\\s.yasini\\appdata\\local\\miniconda3\\envs\\data_sci\\lib\\site-packages (from pandas) (2.9.0.post0)\n",
      "Requirement already satisfied: pytz>=2020.1 in c:\\users\\s.yasini\\appdata\\local\\miniconda3\\envs\\data_sci\\lib\\site-packages (from pandas) (2024.2)\n",
      "Requirement already satisfied: tzdata>=2022.7 in c:\\users\\s.yasini\\appdata\\local\\miniconda3\\envs\\data_sci\\lib\\site-packages (from pandas) (2025.1)\n",
      "Requirement already satisfied: et-xmlfile in c:\\users\\s.yasini\\appdata\\local\\miniconda3\\envs\\data_sci\\lib\\site-packages (from openpyxl) (2.0.0)\n",
      "Requirement already satisfied: six>=1.5 in c:\\users\\s.yasini\\appdata\\local\\miniconda3\\envs\\data_sci\\lib\\site-packages (from python-dateutil>=2.8.2->pandas) (1.16.0)\n"
     ]
    }
   ],
   "source": [
    "!pip install pandas openpyxl"
   ]
  },
  {
   "cell_type": "code",
   "execution_count": 2,
   "id": "641467bf-b0e2-4be6-af2b-553ce9d8eaa5",
   "metadata": {},
   "outputs": [
    {
     "name": "stdout",
     "output_type": "stream",
     "text": [
      "Saved output_files\\301.xlsx\n",
      "Saved output_files\\305.xlsx\n",
      "Saved output_files\\107.xlsx\n",
      "Saved output_files\\303.xlsx\n",
      "Saved output_files\\304.xlsx\n",
      "Saved output_files\\206.xlsx\n",
      "Saved output_files\\108.xlsx\n",
      "Saved output_files\\200.xlsx\n",
      "Saved output_files\\205.xlsx\n",
      "Saved output_files\\204.xlsx\n",
      "Saved output_files\\000112.xlsx\n",
      "Saved output_files\\114.xlsx\n",
      "Saved output_files\\110.xlsx\n",
      "Saved output_files\\اشپزخانه طبقه اول.xlsx\n",
      "Saved output_files\\101-102.xlsx\n",
      "Saved output_files\\طبقه اول{اتاق سرور}.xlsx\n",
      "Saved output_files\\112.xlsx\n",
      "Saved output_files\\104.xlsx\n",
      "Saved output_files\\105.xlsx\n",
      "Saved output_files\\106.xlsx\n",
      "Saved output_files\\اشپزخانه{طبقه دوم}.xlsx\n",
      "Saved output_files\\طبقه دوم{اتاق بایگانی}.xlsx\n",
      "Saved output_files\\201.xlsx\n",
      "Saved output_files\\202.xlsx\n",
      "Saved output_files\\اشپزخانه{طبقه سوم}.xlsx\n",
      "Saved summary file: output_files\\summary.xlsx\n",
      "All files have been created successfully!\n"
     ]
    }
   ],
   "source": [
    "import pandas as pd\n",
    "import os\n",
    "import re\n",
    "from openpyxl import load_workbook\n",
    "\n",
    "# Function to clean file names\n",
    "def clean_filename(makan):\n",
    "    return re.sub(r'[\\\\/*?:\"<>|]', '_', str(makan))\n",
    "\n",
    "# Load the Excel file\n",
    "input_file = \"prc_db_amin_amval.xlsx\"  # Replace with your file name\n",
    "df = pd.read_excel(input_file)\n",
    "\n",
    "# Get unique values in the 'مکان' column\n",
    "unique_makan = df['مکان'].unique()\n",
    "\n",
    "# Create an output directory\n",
    "output_dir = \"output_files\"\n",
    "os.makedirs(output_dir, exist_ok=True)\n",
    "\n",
    "# Loop through each unique 'مکان' value\n",
    "for makan in unique_makan:\n",
    "    # Clean the 'مکان' value for the file name\n",
    "    clean_makan = clean_filename(makan)\n",
    "    \n",
    "    # Filter rows for the current 'مکان'\n",
    "    filtered_df = df[df['مکان'] == makan]\n",
    "    \n",
    "    # Define the output file path\n",
    "    output_file = os.path.join(output_dir, f\"{clean_makan}.xlsx\")\n",
    "    \n",
    "    # Save the filtered data to a new Excel file\n",
    "    filtered_df.to_excel(output_file, index=False)\n",
    "    \n",
    "    print(f\"Saved {output_file}\")\n",
    "\n",
    "# Create a summary file\n",
    "summary_df = pd.DataFrame({\n",
    "    'مکان': unique_makan,\n",
    "    'File Name': [f\"{clean_filename(makan)}.xlsx\" for makan in unique_makan]\n",
    "})\n",
    "summary_file = os.path.join(output_dir, \"summary.xlsx\")\n",
    "summary_df.to_excel(summary_file, index=False)\n",
    "\n",
    "print(f\"Saved summary file: {summary_file}\")\n",
    "print(\"All files have been created successfully!\")"
   ]
  },
  {
   "cell_type": "code",
   "execution_count": null,
   "id": "ca19f84d-b855-4a44-b954-31502bdc5df8",
   "metadata": {},
   "outputs": [],
   "source": []
  }
 ],
 "metadata": {
  "kernelspec": {
   "display_name": "Python 3 (ipykernel)",
   "language": "python",
   "name": "python3"
  },
  "language_info": {
   "codemirror_mode": {
    "name": "ipython",
    "version": 3
   },
   "file_extension": ".py",
   "mimetype": "text/x-python",
   "name": "python",
   "nbconvert_exporter": "python",
   "pygments_lexer": "ipython3",
   "version": "3.11.11"
  }
 },
 "nbformat": 4,
 "nbformat_minor": 5
}
